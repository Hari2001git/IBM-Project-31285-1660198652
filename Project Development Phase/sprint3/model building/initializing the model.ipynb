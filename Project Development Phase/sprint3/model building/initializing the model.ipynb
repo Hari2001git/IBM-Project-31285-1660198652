{
 "cells": [
  {
   "cell_type": "code",
   "execution_count": 1,
   "id": "4ac43da5",
   "metadata": {},
   "outputs": [
    {
     "name": "stdout",
     "output_type": "stream",
     "text": [
      "Defaulting to user installation because normal site-packages is not writeable\n",
      "Requirement already satisfied: keras in c:\\users\\nithi\\appdata\\roaming\\python\\python39\\site-packages (2.9.0)\n"
     ]
    }
   ],
   "source": [
    "#Imagepreprocessing(importing libraries)\n",
    "!pip install keras\n",
    "import keras\n",
    "from keras.preprocessing.image import ImageDataGenerator"
   ]
  },
  {
   "cell_type": "code",
   "execution_count": 3,
   "id": "04e99747",
   "metadata": {},
   "outputs": [],
   "source": [
    "#defining the parameters \n",
    "train_datagen = ImageDataGenerator(rescale=1./255,\n",
    "                                  shear_range=0.2,\n",
    "                                  rotation_range=180,\n",
    "                                  zoom_range=0.2,\n",
    "                                  horizontal_flip=True)\n",
    "test_datagen = ImageDataGenerator(rescale=1./255)"
   ]
  },
  {
   "cell_type": "code",
   "execution_count": 4,
   "id": "2775f7da",
   "metadata": {},
   "outputs": [
    {
     "name": "stdout",
     "output_type": "stream",
     "text": [
      "Found 458 images belonging to 2 classes.\n"
     ]
    }
   ],
   "source": [
    "#applying the ImageDataGenerator to train set\n",
    "x_train =train_datagen.flow_from_directory('C:/Users/nithi/OneDrive/Desktop/project ibm/Dataset/train_set',\n",
    "                                          target_size=(150,150),\n",
    "                                          batch_size = 32,\n",
    "                                          class_mode = 'binary')\n"
   ]
  },
  {
   "cell_type": "code",
   "execution_count": 5,
   "id": "10050ca6",
   "metadata": {},
   "outputs": [
    {
     "name": "stdout",
     "output_type": "stream",
     "text": [
      "Found 122 images belonging to 2 classes.\n"
     ]
    }
   ],
   "source": [
    "#applying the ImageDataGenerator to test set\n",
    "x_test = test_datagen.flow_from_directory('C:/Users/nithi/OneDrive/Desktop/project ibm/Dataset/test_set',\n",
    "                                       target_size=(150,150),\n",
    "                                       batch_size=32,\n",
    "                                       class_mode ='binary')"
   ]
  },
  {
   "cell_type": "code",
   "execution_count": 7,
   "id": "85304110",
   "metadata": {},
   "outputs": [],
   "source": [
    "#importing the model building libraries\n",
    "from keras.models import Sequential\n",
    "from keras.layers import Dense\n",
    "from keras.layers import Activation\n",
    "from keras.layers import Convolution2D\n",
    "from keras.layers import MaxPooling2D\n",
    "from keras.layers import Flatten\n",
    "import warnings\n",
    "warnings.filterwarnings('ignore')"
   ]
  },
  {
   "cell_type": "code",
   "execution_count": 8,
   "id": "876cb06d",
   "metadata": {},
   "outputs": [],
   "source": [
    "#initializing the model\n",
    "model=Sequential()"
   ]
  },
  {
   "cell_type": "code",
   "execution_count": null,
   "id": "d679d484",
   "metadata": {},
   "outputs": [],
   "source": []
  }
 ],
 "metadata": {
  "kernelspec": {
   "display_name": "Python 3 (ipykernel)",
   "language": "python",
   "name": "python3"
  },
  "language_info": {
   "codemirror_mode": {
    "name": "ipython",
    "version": 3
   },
   "file_extension": ".py",
   "mimetype": "text/x-python",
   "name": "python",
   "nbconvert_exporter": "python",
   "pygments_lexer": "ipython3",
   "version": "3.9.12"
  }
 },
 "nbformat": 4,
 "nbformat_minor": 5
}
